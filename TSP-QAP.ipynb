{
 "cells": [
  {
   "cell_type": "markdown",
   "metadata": {},
   "source": [
    "# Quadratic Assignment Problem"
   ]
  },
  {
   "cell_type": "markdown",
   "metadata": {},
   "source": [
    "Notebook where we have taken the code from: https://github.com/recruit-communications/pyqubo/blob/master/notebooks/TSP.ipynb and modified it to solve a QAP"
   ]
  },
  {
   "cell_type": "code",
   "execution_count": 1,
   "metadata": {},
   "outputs": [],
   "source": [
    "%matplotlib inline\n",
    "from datetime import datetime\n",
    "\n",
    "import neal\n",
    "import numpy as np\n",
    "import pandas as pd\n",
    "from itertools import permutations\n",
    "from dwave.system import EmbeddingComposite, DWaveSampler\n",
    "from pyqubo import Array, Placeholder, Constraint"
   ]
  },
  {
   "cell_type": "markdown",
   "metadata": {
    "tags": []
   },
   "source": [
    "## Facilities assignment to locations (given their distances and flows between them) - QAP"
   ]
  },
  {
   "cell_type": "markdown",
   "metadata": {
    "tags": []
   },
   "source": [
    "### Number of locations/facilities = 3"
   ]
  },
  {
   "cell_type": "code",
   "execution_count": 41,
   "metadata": {},
   "outputs": [],
   "source": []
  },
  {
   "cell_type": "code",
   "execution_count": 47,
   "metadata": {},
   "outputs": [
    {
     "name": "stdout",
     "output_type": "stream",
     "text": [
      "[[0 1 1 ... 0 0 0]\n",
      " [1 0 1 ... 0 0 0]\n",
      " [1 1 0 ... 0 0 0]\n",
      " ...\n",
      " [0 0 0 ... 0 0 0]\n",
      " [0 0 0 ... 0 0 0]\n",
      " [0 0 0 ... 0 0 0]]\n"
     ]
    }
   ],
   "source": []
  },
  {
   "cell_type": "markdown",
   "metadata": {
    "jp-MarkdownHeadingCollapsed": true,
    "tags": []
   },
   "source": [
    "### Number of cities/facilities = 4"
   ]
  },
  {
   "cell_type": "code",
   "execution_count": 2,
   "metadata": {},
   "outputs": [],
   "source": [
    "# locations (locs) and facilities should be same-sized lists\n",
    "locs = list('abcd')\n",
    "facilities = ['hq', 'rnd', 'depo', 'factory']"
   ]
  },
  {
   "cell_type": "code",
   "execution_count": 3,
   "metadata": {},
   "outputs": [],
   "source": [
    "# size of the problem to consider - useful to consider smaller problem to that solves quickly (cannot be larger than len(locs)!)\n",
    "m = 4  "
   ]
  },
  {
   "cell_type": "code",
   "execution_count": 4,
   "metadata": {},
   "outputs": [
    {
     "name": "stdout",
     "output_type": "stream",
     "text": [
      "Distance between cities:\n",
      "    a   b   c   d\n",
      "a   0  10  40  30\n",
      "b  10   0  20  50\n",
      "c  40  20   0  20\n",
      "d  30  50  20   0\n"
     ]
    }
   ],
   "source": [
    "dist_bw_cities = np.array([[0, 10, 40, 30], [10, 0, 20, 50], [40, 20, 0, 20], [30, 50, 20, 0]])\n",
    "dbc = pd.DataFrame(dist_bw_cities[:m, :m], index=locs[:m], columns=locs[:m])\n",
    "print(\"Distance between cities:\")\n",
    "print(dbc)"
   ]
  },
  {
   "cell_type": "code",
   "execution_count": 5,
   "metadata": {},
   "outputs": [
    {
     "name": "stdout",
     "output_type": "stream",
     "text": [
      "Flows between facilities:\n",
      "         hq  rnd  depo  factory\n",
      "hq        0   30     5       10\n",
      "rnd      30    0     5       20\n",
      "depo      5    5     0       50\n",
      "factory  10   20    50        0\n"
     ]
    }
   ],
   "source": [
    "flows_bw_facilities = np.array([[0, 30, 5, 10], [30, 0, 5, 20], [5, 5, 0, 50], [10, 20, 50, 0]])\n",
    "fbf = pd.DataFrame(flows_bw_facilities[:m, :m], index=facilities[:m], columns=facilities[:m])\n",
    "print(\"Flows between facilities:\")\n",
    "print(fbf)"
   ]
  },
  {
   "cell_type": "markdown",
   "metadata": {
    "tags": []
   },
   "source": [
    "## Instantiating variables (Common code for simulated and quantum annealing)"
   ]
  },
  {
   "cell_type": "markdown",
   "metadata": {},
   "source": [
    "### Unknown variable i.e. $x$"
   ]
  },
  {
   "cell_type": "markdown",
   "metadata": {},
   "source": [
    "The unknown variable we're solving for $x$ represents the binary vector with  bit $(i, j)$ representing assignment of facility $i$ to location $j$ "
   ]
  },
  {
   "cell_type": "code",
   "execution_count": 6,
   "metadata": {},
   "outputs": [],
   "source": [
    "n_city = m\n",
    "x = Array.create('x', (n_city, n_city), 'BINARY')"
   ]
  },
  {
   "cell_type": "markdown",
   "metadata": {},
   "source": [
    "### Objective Function"
   ]
  },
  {
   "cell_type": "markdown",
   "metadata": {},
   "source": [
    "Objective function to be minimised - $flow*distance$ for chosen $x$\n",
    "$$\n",
    "H_{1} = min\\sum_{i=1}^{n}\\sum_{j=1}^{n}\\sum_{k=1}^{n}\\sum_{l=1}^{n}(f_{ij}.d_{kl})x_{i,k}x_{j,l}\n",
    "$$\n",
    "with $x_{i,k}$ being a binary variable, which is $1$ if facility $i$ is assigned to location $k$ and $0$ otherwise. The same applies for the binary variable $x_{j,l}$"
   ]
  },
  {
   "cell_type": "code",
   "execution_count": 7,
   "metadata": {},
   "outputs": [],
   "source": [
    "flow_times_dist = 0.0\n",
    "for i in range(n_city):\n",
    "    for j in range(n_city):\n",
    "        for k in range(n_city):\n",
    "            for l in range(n_city):\n",
    "                flow_times_dist += flows_bw_facilities[i][j] * x[i][k] * dist_bw_cities[k][l] * x[j][l]  \n",
    "                                # the last is x_jl because we've X' there"
   ]
  },
  {
   "cell_type": "code",
   "execution_count": 8,
   "metadata": {},
   "outputs": [],
   "source": [
    "# print(flow_times_dist)"
   ]
  },
  {
   "cell_type": "markdown",
   "metadata": {},
   "source": [
    "### Constraints "
   ]
  },
  {
   "cell_type": "markdown",
   "metadata": {},
   "source": [
    "$$\n",
    "H_{2} = P\\sum_{i=1}^{n} (1 - \\sum_{k=1}^{n}x_{i,k})^2 + P\\sum_{l=1}^{n} (1 - \\sum_{j=1}^{n}x_{j,l})^2\n",
    "$$"
   ]
  },
  {
   "cell_type": "markdown",
   "metadata": {},
   "source": [
    "Constraint not to have $x[i,j]$ be different from 1 in more than one column in each row."
   ]
  },
  {
   "cell_type": "code",
   "execution_count": 9,
   "metadata": {},
   "outputs": [],
   "source": [
    "row_const = 0.0\n",
    "for i in range(n_city):\n",
    "    # If you wrap the hamiltonian by Const(...), this part is recognized as constraint\n",
    "    row_const += Constraint((sum(x[i, j] for j in range(n_city)) - 1) ** 2, label=\"row{}\".format(i))"
   ]
  },
  {
   "cell_type": "code",
   "execution_count": 10,
   "metadata": {},
   "outputs": [],
   "source": [
    "# print(row_const)"
   ]
  },
  {
   "cell_type": "markdown",
   "metadata": {},
   "source": [
    "Constraint not to have $x[i,j]$ be different from 1 in more than one row in each column."
   ]
  },
  {
   "cell_type": "code",
   "execution_count": 11,
   "metadata": {},
   "outputs": [],
   "source": [
    "column_const = 0.0\n",
    "for j in range(n_city):\n",
    "    column_const += Constraint((sum(x[i, j] for i in range(n_city)) - 1) ** 2, label=\"column{}\".format(j))"
   ]
  },
  {
   "cell_type": "code",
   "execution_count": 12,
   "metadata": {},
   "outputs": [],
   "source": [
    "# print(column_const)"
   ]
  },
  {
   "cell_type": "markdown",
   "metadata": {},
   "source": [
    "### Penalty value"
   ]
  },
  {
   "cell_type": "markdown",
   "metadata": {},
   "source": [
    "The penalty value $P$ of the constraint Hamiltonian $H_{2}$ is set to $P > d_{max}*f_{max}$"
   ]
  },
  {
   "cell_type": "code",
   "execution_count": 13,
   "metadata": {},
   "outputs": [],
   "source": [
    "# Construct hamiltonian\n",
    "P = Placeholder(\"P\")"
   ]
  },
  {
   "cell_type": "code",
   "execution_count": 14,
   "metadata": {},
   "outputs": [
    {
     "name": "stdout",
     "output_type": "stream",
     "text": [
      "max_bound: 2501\n"
     ]
    }
   ],
   "source": [
    "max_bound = np.max(dist_bw_cities) * np.max(flows_bw_facilities) + 1\n",
    "print(f'max_bound: {max_bound}')"
   ]
  },
  {
   "cell_type": "code",
   "execution_count": 15,
   "metadata": {},
   "outputs": [],
   "source": [
    "feed_dict = {'P': max_bound}"
   ]
  },
  {
   "cell_type": "markdown",
   "metadata": {},
   "source": [
    "### Generate QUBO"
   ]
  },
  {
   "cell_type": "markdown",
   "metadata": {},
   "source": [
    "The overall Hamiltonian is composed of $H = H_{1} + H_{2}$"
   ]
  },
  {
   "cell_type": "code",
   "execution_count": 16,
   "metadata": {},
   "outputs": [],
   "source": [
    "H = flow_times_dist + P * (row_const + column_const)"
   ]
  },
  {
   "cell_type": "code",
   "execution_count": 17,
   "metadata": {},
   "outputs": [],
   "source": [
    "# print(H)"
   ]
  },
  {
   "cell_type": "code",
   "execution_count": 18,
   "metadata": {},
   "outputs": [],
   "source": [
    "# Compile model\n",
    "model = H.compile()"
   ]
  },
  {
   "cell_type": "markdown",
   "metadata": {
    "tags": []
   },
   "source": [
    "## Simulated Annealing"
   ]
  },
  {
   "cell_type": "code",
   "execution_count": 32,
   "metadata": {},
   "outputs": [],
   "source": [
    "bqm = model.to_bqm(feed_dict=feed_dict)"
   ]
  },
  {
   "cell_type": "code",
   "execution_count": 33,
   "metadata": {},
   "outputs": [
    {
     "name": "stdout",
     "output_type": "stream",
     "text": [
      "total decoded_samples: 100\n",
      "\n",
      "number of broken constraints = 0 out of 8\n",
      "\n",
      "DecodedSolution({x[3][1]:1, x[0][0]:0, x[3][0]:0, x[0][1]:0, x[3][3]:0, x[0][2]:0, x[3][2]:0, x[0][3]:1, x[1][0]:0, x[1][1]:0, x[1][2]:1, x[1][3]:0, x[2][0]:1, x[2][1]:0, x[2][2]:0, x[2][3]:0}, energy=4700.000000)\n",
      "\n",
      "time taken (using SimulatedAnnealing): 0:00:00.181574\n"
     ]
    }
   ],
   "source": [
    "t_start = datetime.now()\n",
    "sa = neal.SimulatedAnnealingSampler()\n",
    "sampleset = sa.sample(bqm, num_reads=100)\n",
    "\n",
    "# Decode solution from sampleset\n",
    "decoded_samples = model.decode_sampleset(sampleset, feed_dict=feed_dict)\n",
    "print(f'total decoded_samples: {len(decoded_samples)}\\n')\n",
    "\n",
    "# Optimal solution with minimum energy state\n",
    "best_sample = min(decoded_samples, key=lambda x: x.energy)\n",
    "\n",
    "# Checking the ratio of constraints that were not satisfied for the optimal solution\n",
    "num_broken = len(best_sample.constraints(only_broken=True))\n",
    "tot_constraints = len(best_sample.constraints())\n",
    "print(\"number of broken constraints = {} out of {}\\n\".format(num_broken, tot_constraints))\n",
    "\n",
    "\n",
    "if num_broken == 0:\n",
    "    print(best_sample)\n",
    "else:\n",
    "    print(best_sample.constraints())\n",
    "    \n",
    "print(f'\\ntime taken (using SimulatedAnnealing): {datetime.now() - t_start}')\n"
   ]
  },
  {
   "cell_type": "code",
   "execution_count": 21,
   "metadata": {},
   "outputs": [
    {
     "name": "stdout",
     "output_type": "stream",
     "text": [
      "[[0. 0. 0. 1.]\n",
      " [0. 0. 1. 0.]\n",
      " [1. 0. 0. 0.]\n",
      " [0. 1. 0. 0.]]\n"
     ]
    }
   ],
   "source": [
    "# Optimal solution as a 2D matrix\n",
    "opt = np.zeros((n_city, n_city))\n",
    "for i in range(n_city):\n",
    "    for j in range(n_city):\n",
    "        if best_sample.array('x', (i, j)) == 1:\n",
    "            opt[i][j] = 1\n",
    "\n",
    "print(opt)"
   ]
  },
  {
   "cell_type": "code",
   "execution_count": 22,
   "metadata": {},
   "outputs": [
    {
     "name": "stdout",
     "output_type": "stream",
     "text": [
      "[[  0. 600. 150. 500.]\n",
      " [600.   0. 200. 400.]\n",
      " [150. 200.   0. 500.]\n",
      " [500. 400. 500.   0.]]\n"
     ]
    }
   ],
   "source": [
    "# Cost (flow*distance) for travel between each facility \n",
    "print(flows_bw_facilities * (opt @ dist_bw_cities @ opt.T))"
   ]
  },
  {
   "cell_type": "code",
   "execution_count": 23,
   "metadata": {},
   "outputs": [
    {
     "name": "stdout",
     "output_type": "stream",
     "text": [
      "optimal solution (minimum of flow*dist possible): 2350.0\n"
     ]
    }
   ],
   "source": [
    "optimal_solution = 0.5 * best_sample.energy  # because we need to consider the flow*dist only once (upper or lower half of matrix)\n",
    "print(f'optimal solution (minimum of flow*dist possible): {optimal_solution}')"
   ]
  },
  {
   "cell_type": "markdown",
   "metadata": {},
   "source": [
    "## Quantum Annealing using D-wave sampler"
   ]
  },
  {
   "cell_type": "code",
   "execution_count": 24,
   "metadata": {},
   "outputs": [],
   "source": [
    "ENDPOINT = 'https://cloud.dwavesys.com/sapi/'\n",
    "SOLVER = 'Advantage_system6.1'\n",
    "TOKEN = '***' # Enter token "
   ]
  },
  {
   "cell_type": "code",
   "execution_count": 25,
   "metadata": {},
   "outputs": [],
   "source": [
    "num_reads = 100"
   ]
  },
  {
   "cell_type": "code",
   "execution_count": 26,
   "metadata": {},
   "outputs": [
    {
     "name": "stdout",
     "output_type": "stream",
     "text": [
      "total decoded_samples: 76\n",
      "\n",
      "number of broken constraints = 0 out of 8\n",
      "\n",
      "DecodedSolution({x[0][0]:0, x[3][1]:1, x[0][1]:0, x[3][0]:0, x[0][2]:0, x[3][3]:0, x[0][3]:1, x[3][2]:0, x[1][0]:0, x[1][1]:0, x[1][2]:1, x[1][3]:0, x[2][0]:1, x[2][1]:0, x[2][2]:0, x[2][3]:0}, energy=4700.000000)\n",
      "\n",
      "time taken (using QuantumAnnealing): \n",
      "{'timing': {'qpu_sampling_time': 9502.0, 'qpu_anneal_time_per_sample': 20.0, 'qpu_readout_time_per_sample': 54.48, 'qpu_access_time': 25427.57, 'qpu_access_overhead_time': 645.43, 'qpu_programming_time': 15925.57, 'qpu_delay_time_per_sample': 20.54, 'post_processing_overhead_time': 1766.0, 'total_post_processing_time': 1766.0}, 'problem_id': '96dd1308-62b4-4168-8412-c61d456bf76f'}\n"
     ]
    }
   ],
   "source": [
    "dw_solver = DWaveSampler(solver=SOLVER, token=TOKEN, endpoint=ENDPOINT)\n",
    "dwave = EmbeddingComposite(dw_solver)\n",
    "\n",
    "Q, offset = model.to_qubo(feed_dict=feed_dict)\n",
    "\n",
    "sampleset = dwave.sample_qubo(Q, num_reads=100)\n",
    "\n",
    "# Decode solution from sampleset\n",
    "decoded_samples = model.decode_sampleset(sampleset, feed_dict=feed_dict)\n",
    "print(f'total decoded_samples: {len(decoded_samples)}\\n')\n",
    "\n",
    "# Optimal solution with minimum energy state\n",
    "best_sample = min(decoded_samples, key=lambda x: x.energy)\n",
    "\n",
    "# Checking the ratio of constraints that were not satisfied for the optimal solution\n",
    "num_broken = len(best_sample.constraints(only_broken=True))\n",
    "tot_constraints = len(best_sample.constraints())\n",
    "print(\"number of broken constraints = {} out of {}\\n\".format(num_broken, tot_constraints))\n",
    "\n",
    "\n",
    "if num_broken == 0:\n",
    "    print(best_sample)\n",
    "else:\n",
    "    print(best_sample.constraints())\n",
    "    \n",
    "print(f'\\ntime taken (using QuantumAnnealing): ')\n",
    "print(sampleset.info)"
   ]
  },
  {
   "cell_type": "code",
   "execution_count": 27,
   "metadata": {},
   "outputs": [
    {
     "name": "stdout",
     "output_type": "stream",
     "text": [
      "[[0. 0. 0. 1.]\n",
      " [0. 0. 1. 0.]\n",
      " [1. 0. 0. 0.]\n",
      " [0. 1. 0. 0.]]\n"
     ]
    }
   ],
   "source": [
    "# Optimal solution as a 2D matrix\n",
    "opt = np.zeros((n_city, n_city))\n",
    "for i in range(n_city):\n",
    "    for j in range(n_city):\n",
    "        if best_sample.array('x', (i, j)) == 1:\n",
    "            opt[i][j] = 1\n",
    "\n",
    "print(opt)"
   ]
  },
  {
   "cell_type": "code",
   "execution_count": 28,
   "metadata": {},
   "outputs": [
    {
     "name": "stdout",
     "output_type": "stream",
     "text": [
      "[[  0. 600. 150. 500.]\n",
      " [600.   0. 200. 400.]\n",
      " [150. 200.   0. 500.]\n",
      " [500. 400. 500.   0.]]\n"
     ]
    }
   ],
   "source": [
    "# Cost (flow*distance) for travel between each facility \n",
    "print(flows_bw_facilities * (opt @ dist_bw_cities @ opt.T))"
   ]
  },
  {
   "cell_type": "code",
   "execution_count": 29,
   "metadata": {},
   "outputs": [
    {
     "name": "stdout",
     "output_type": "stream",
     "text": [
      "optimal solution (minimum of flow*dist possible): 2350.0\n"
     ]
    }
   ],
   "source": [
    "optimal_solution = 0.5 * best_sample.energy  # because we need to consider the flow*dist only once (upper or lower half of matrix)\n",
    "print(f'optimal solution (minimum of flow*dist possible): {optimal_solution}')"
   ]
  },
  {
   "cell_type": "markdown",
   "metadata": {},
   "source": [
    "## Classical method"
   ]
  },
  {
   "cell_type": "code",
   "execution_count": 30,
   "metadata": {},
   "outputs": [],
   "source": [
    "# Create permutation matrices and find the total cost i.e. flow*distance, associated with the matrix\n",
    "permutation_mapping = {1: [1, 0, 0, 0], 2: [0, 1, 0, 0], 3: [0, 0, 1, 0], 4: [0, 0, 0, 1]}\n",
    "\n",
    "cost_matrix_mapping = {}\n",
    "for p in list(permutations(range(1, 5))):\n",
    "    permutation_matrix = np.array([permutation_mapping[x] for x in p]).reshape(4, 4)\n",
    "    cost = np.sum(flows_bw_facilities * (permutation_matrix @ dist_bw_cities @ permutation_matrix.T))/2\n",
    "    cost_matrix_mapping[p] = cost"
   ]
  },
  {
   "cell_type": "code",
   "execution_count": 31,
   "metadata": {},
   "outputs": [
    {
     "name": "stdout",
     "output_type": "stream",
     "text": [
      "[[0 0 0 1]\n",
      " [0 0 1 0]\n",
      " [1 0 0 0]\n",
      " [0 1 0 0]]\n"
     ]
    }
   ],
   "source": [
    "# Find the permutation matrix with the lowest cost \n",
    "\n",
    "opt_permutation = min(cost_matrix_mapping, key=cost_matrix_mapping.get)\n",
    "opt = np.array([permutation_mapping[x] for x in opt_permutation]).reshape(4, 4)\n",
    "\n",
    "# Optimal solution as a 2D matrix\n",
    "print(opt)"
   ]
  },
  {
   "cell_type": "code",
   "execution_count": null,
   "metadata": {},
   "outputs": [],
   "source": []
  }
 ],
 "metadata": {
  "kernelspec": {
   "display_name": "Python 3 (ipykernel)",
   "language": "python",
   "name": "python3"
  },
  "language_info": {
   "codemirror_mode": {
    "name": "ipython",
    "version": 3
   },
   "file_extension": ".py",
   "mimetype": "text/x-python",
   "name": "python",
   "nbconvert_exporter": "python",
   "pygments_lexer": "ipython3",
   "version": "3.8.10"
  },
  "vscode": {
   "interpreter": {
    "hash": "c27dbfab46a262c7f9dd1f524dc398f254dfbe2d1bc184b6b7abeeb70cbfc7e0"
   }
  }
 },
 "nbformat": 4,
 "nbformat_minor": 4
}
